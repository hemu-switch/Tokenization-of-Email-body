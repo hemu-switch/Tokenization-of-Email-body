{
 "cells": [
  {
   "cell_type": "code",
   "execution_count": 5,
   "id": "cd2ed0be",
   "metadata": {
    "scrolled": true
   },
   "outputs": [
    {
     "name": "stdout",
     "output_type": "stream",
     "text": [
      "['body', 'type', 'plain', 'text', 'Courtney', 'thought', 'like', 'know', 'numerous', 'cut', 'night', 'morning', 'hour', 'follow', '05/06/01', 'ISO', 'cut', 'import', '@', 'corner', '9mw', '19', 'Export', '@', 'Summit', '9mw', '19', 'schedule', 'cut', '21mw', '21', '22', '23', 'iso', 'cut', '21mw', 'import', '@', 'PV', 'corresponding', 'export', '@', 'Summit', 'hour', 'iso', 'keep', 'buy', 'resale', 'NCPA', 'SP15', 'NP15', 'PAC', 'Cut', 'tag', '14987', 'PSCO_AEPMWE_EPMIWE_EPMEWE_AVWP00', '25', 'MW', '19', '-', '24', 'PSCO', 'book', 'Avista', 'Water', 'Power', 'WWP', '05/06/01', 'PAC', 'cut', 'tag', '14988', 'psco_epmi_mecolb_avstwe_chpd', '25mw', '01', 'PSCO', 'book', 'Avista', 'Energy', 'Trading', 'CHPD', 'CISO', 'cut', 'schdule', 'EPMI_CISO_5000', 'EPMI_CISO_5001', '1mw', 'PV', 'resold', 'power', 'SRP', '$', '5.00', 'great', 'price', 'SW', 'get', 'cut', 'time', 'new', 'deal', 'Enpower', 'follow', '602984', '602985', 'question', 'cut', 'note', 'lotus', 'note', 'morning', 'iso', 'cut', 'sc', 'trade', 'NES1', 'SP15', \"dec'd\", 'load', 'PGE', '1', '2', '3', 'Path', '15', 'Congestion']\n"
     ]
    }
   ],
   "source": [
    "import json\n",
    "import spacy\n",
    "import re\n",
    "nlp = spacy.load('en_core_web_sm')\n",
    "# Opening JSON file\n",
    "\n",
    "\n",
    "with open(\"Email.json\", \"r\") as read_file:\n",
    "    data = json.load(read_file)\n",
    "# print(type(data))\n",
    "\n",
    "emails=[]\n",
    "\n",
    "# #Body of 1st Email\n",
    "# s = data[0]['fields']['body']\n",
    "\n",
    "\n",
    "for email in data:\n",
    "    emails.append(email['fields']['body'])\n",
    "    \n",
    "# print(emails)\n",
    "\n",
    "tokens=[]\n",
    "\n",
    "for item in emails: \n",
    "    doc = nlp(item)\n",
    "    EachEmailToken=[]\n",
    "    for token in doc:\n",
    "        if not token.is_stop:\n",
    "            if not token.pos_==\"PUNCT\":\n",
    "                if not token.pos_==\"SPACE\":\n",
    "                    if token.text==\"Regards\":\n",
    "                        break;\n",
    "    #                     print(f'{token.text:{10}} {token.pos_:{8}} {token.lemma_:{6}} {spacy.explain(token.tag_)}')\n",
    "                    EachEmailToken.append(token.lemma_)\n",
    "    tokens.append(EachEmailToken)\n",
    "                \n",
    "print(tokens[2])"
   ]
  },
  {
   "cell_type": "code",
   "execution_count": null,
   "id": "002f0e68",
   "metadata": {},
   "outputs": [],
   "source": []
  },
  {
   "cell_type": "code",
   "execution_count": null,
   "id": "1466cc15",
   "metadata": {},
   "outputs": [],
   "source": []
  }
 ],
 "metadata": {
  "kernelspec": {
   "display_name": "Python 3",
   "language": "python",
   "name": "python3"
  },
  "language_info": {
   "codemirror_mode": {
    "name": "ipython",
    "version": 3
   },
   "file_extension": ".py",
   "mimetype": "text/x-python",
   "name": "python",
   "nbconvert_exporter": "python",
   "pygments_lexer": "ipython3",
   "version": "3.7.3"
  }
 },
 "nbformat": 4,
 "nbformat_minor": 5
}
