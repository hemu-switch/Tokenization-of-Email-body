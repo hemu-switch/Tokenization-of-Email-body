{
 "cells": [
  {
   "cell_type": "code",
   "execution_count": 102,
   "id": "cd2ed0be",
   "metadata": {
    "scrolled": true
   },
   "outputs": [
    {
     "name": "stdout",
     "output_type": "stream",
     "text": [
      "[['Body', 'Type', 'plain', 'text', 'checke', 'Historical', 'Caps', 'deals', 'certain', 'bought', 'sold', 'Reliant', 'NES1', 'hour', 'ending', '11', 'case', 'failed', 'phase', '2', 'ISO', 'searching', 'notes', 'price', 'spoke', 'Reliant'], ['Body', 'Type', 'plain', 'text', 'EDRM', 'Enron', 'Email', 'Data', 'Set', 'produced', 'EML', 'PST', 'NSF', 'format', 'ZL', 'Technologies', 'Inc.', 'Data', 'Set', 'licensed', 'Creative', 'Commons', 'Attribution', '3.0', 'United', 'States', 'License', '<', 'http://creativecommons.org/licenses/by/3.0/us/', '>', 'provide', 'attribution', 'cite', 'ZL', 'Technologies', 'Inc.', 'http://www.zlti.com'], ['Body', 'Type', 'plain', 'text', 'Courtney', 'Thought', 'like', 'know', 'numerous', 'cuts', 'night', 'morning', 'hours', 'follows', '05/06/01', 'ISO', 'cut', 'import', '@', 'corners', '9MW', '19', 'Export', '@', 'Summit', '9MW', '19', 'schedule', 'cut', '21MW', '21', '22', '23', 'ISO', 'cut', '21MW', 'import', '@', 'PV', 'corresponding', 'export', '@', 'Summit', 'hours', 'ISO', 'kept', 'buy', 'resale', 'NCPA', 'SP15', 'NP15', 'PAC', 'Cut', 'tag', '14987', 'PSCO_AEPMWE_EPMIWE_EPMEWE_AVWP00', '25', 'MW', '19', '-', '24', 'PSCO', 'booked', 'Avista', 'Water', 'Power', 'WWP', '05/06/01', 'PAC', 'cutting', 'tag', '14988', 'PSCO_EPMI_MECOLB_AVSTWE_CHPD', '25MW', '01', 'PSCO', 'booked', 'Avista', 'Energy', 'Trading', 'CHPD', 'CISO', 'cut', 'schdule', 'EPMI_CISO_5000', 'EPMI_CISO_5001', '1MW', 'PV', 'resold', 'power', 'SRP', '$', '5.00', 'great', 'price', 'SW', 'getting', 'cut', 'time', 'new', 'deals', 'Enpower', 'follows', '602984', '602985', 'questions', 'cut', 'note', 'lotus', 'notes', 'morning', 'ISO', 'cutting', 'SC', 'trade', 'NES1', 'SP15', \"dec'd\", 'load', 'PGE', '1', '2', '3', 'Path', '15', 'Congestion'], ['Body', 'Type', 'plain', 'text', 'Donald', 'Ralph', 'Alberta', 'Power', 'Pool', 'called', 'review', 'tag', '#', '22872', 'wondering', 'tag', 'run', 'sunday', 'sunday', 'check', 'time', 'Monday', 'following', 'week', 'certainly', 'appreciate', 'problem', 'tag', 'said', 'bother', 'main', 'issue', 'schedule', 'flow', 'weekend', 'questions'], ['Body', 'Type', 'plain', 'text', 'EDRM', 'Enron', 'Email', 'Data', 'Set', 'produced', 'EML', 'PST', 'NSF', 'format', 'ZL', 'Technologies', 'Inc.', 'Data', 'Set', 'licensed', 'Creative', 'Commons', 'Attribution', '3.0', 'United', 'States', 'License', '<', 'http://creativecommons.org/licenses/by/3.0/us/', '>', 'provide', 'attribution', 'cite', 'ZL', 'Technologies', 'Inc.', 'http://www.zlti.com'], ['Body', 'Type', 'plain', 'text', 'Ryan', 'aware', 'days', '14', '15', '16', 'July', 'need', 'help', 'wife', 'pack', 'unpack', 'downtown', 'Portland', 'consideration', 'arrange', 'greatly', 'appreciated', 'questions', 'concerns', 'Bert', 'EDRM', 'Enron', 'Email', 'Data', 'Set', 'produced', 'EML', 'PST', 'NSF', 'format', 'ZL', 'Technologies', 'Inc.', 'Data', 'Set', 'licensed', 'Creative', 'Commons', 'Attribution', '3.0', 'United', 'States', 'License', '<', 'http://creativecommons.org/licenses/by/3.0/us/', '>', 'provide', 'attribution', 'cite', 'ZL', 'Technologies', 'Inc.', 'http://www.zlti.com'], ['Body', 'Type', 'plain', 'text', 'Tag', 'number', '25430', 'cut', '19', '3', 'MW', 'buy', 'LV', 'Cogen', 'sell', 'SRP', 'resupplied', 'power', 'EPEC', 'hour', 'El', 'Paso', 'Electric', '$', '50', 'gave', 'SRP', '@', 'Palo', 'Verde', 'spoke', 'Mike', '@', 'SRP', 'deal', 'agreed', 'enpower', 'deals', 'buy', 'EPE', 'sell', 'LV', 'Cogen', 'ST', 'West', 'Services', 'Book', 'deals', '666355', '66356', 'question', 'West', 'short', 'term', 'services', 'desk'], ['Body', 'Type', 'plain', 'text', 'Concern', 'NEVP', 'called', '21:00', 'informed', 'cut', 'Dynegy', 'able', 'resupply', 'energy', 'bought', 'APS', 'tranny', 'power', 'EPE', '$', '70.00', 'EL', 'PASO', 'model', 'sell', 'EPE', 'DYNEGY', '8MW', '@', '$', '70', 'Palo', 'Verde', 'Tranny', 'APS', '$', '3.50', 'annuity', 'billed', 'Dynegy', 'built', 'annuities', 'tranny', 'purchase', 'APS', 'subsequent', 'billing', 'Dynegy', '674830', '&', '674831', 'EPEC', 'deals', 'relate', 'cut', '674832', '674833', 'questions'], ['Body', 'Type', 'plain', 'text', 'Frontier', 'forced', 'bring', 'unit', 'ash', 'problem', 'needed', 'work', 'generator', 'Starting', '@', '7:40', 'Frontier', 'producing', '4MW', 'instead', 'pre', '-', 'schedule', '8MW', 'picked', 'operating', 'reserves', 'remainder', '08', '09', 'schedule', 'sold', 'unit', 'contingent', 'cut', 'schedule', '4MW', 'starting', '10', 'till', 'Bonnie', '@', 'EWEB', 'agreed', 'curtailment', 'tag', 'number', 'deal', '27456', 'questions'], ['Body', 'Type', 'plain', 'text', 'concern', 'note', 'Colstrip', 'tripped', '@', 'approx', '13:20', 'today', 'picked', 'tranny', 'BPA', 'Mid', 'C', 'MPC', 'SYS', '62', 'MW', 'hour', 'cut', 'integrated', 'number', '41MW', 'Starting', '15', 'cut', '62', 'MW', 'hour', 'deal', 'numbers', 'affected', 'cut', 'reduced', 'appropriate', '711291', '709803', 'new', 'deals', 'correct', 'enpower', 'new', 'deals', '714148', '714150', 'questions', 'number', '@', 'real', 'time', 'desk', '1', '-', '800', '684', '1336']]\n"
     ]
    }
   ],
   "source": [
    "import json\n",
    "import spacy\n",
    "import re\n",
    "nlp = spacy.load('en_core_web_sm')\n",
    "# Opening JSON file\n",
    "\n",
    "\n",
    "with open(\"Email.json\", \"r\") as read_file:\n",
    "    data = json.load(read_file)\n",
    "# print(type(data))\n",
    "\n",
    "emails=[]\n",
    "\n",
    "# #Body of 1st Email\n",
    "# s = data[0]['fields']['body']\n",
    "\n",
    "\n",
    "for email in data:\n",
    "    emails.append(email['fields']['body'])\n",
    "\n",
    "tokens=[]\n",
    "\n",
    "for item in emails: \n",
    "    doc = nlp(item)\n",
    "    EachEmailToken=[]\n",
    "    for token in doc:\n",
    "        if not token.is_stop:\n",
    "            if not token.pos_==\"PUNCT\":\n",
    "                if not token.pos_==\"SPACE\":\n",
    "                    if token.text==\"Regards\":\n",
    "                        break;\n",
    "    #                     print(f'{token.text:{10}} {token.pos_:{8}} {token.lemma_:{6}} {spacy.explain(token.tag_)}')\n",
    "                    EachEmailToken.append(token.text)\n",
    "    tokens.append(EachEmailToken)\n",
    "                \n",
    "print(tokens)"
   ]
  },
  {
   "cell_type": "code",
   "execution_count": null,
   "id": "002f0e68",
   "metadata": {},
   "outputs": [],
   "source": []
  },
  {
   "cell_type": "code",
   "execution_count": null,
   "id": "1466cc15",
   "metadata": {},
   "outputs": [],
   "source": []
  }
 ],
 "metadata": {
  "kernelspec": {
   "display_name": "Python 3",
   "language": "python",
   "name": "python3"
  },
  "language_info": {
   "codemirror_mode": {
    "name": "ipython",
    "version": 3
   },
   "file_extension": ".py",
   "mimetype": "text/x-python",
   "name": "python",
   "nbconvert_exporter": "python",
   "pygments_lexer": "ipython3",
   "version": "3.7.3"
  }
 },
 "nbformat": 4,
 "nbformat_minor": 5
}
